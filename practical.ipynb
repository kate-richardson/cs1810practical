{
 "cells": [
  {
   "cell_type": "markdown",
   "metadata": {},
   "source": [
    "DONE\n",
    "Step 1: Preprocess the data - use the same function across the board\n",
    "Clearing out the capitalization\n",
    "Clearing out em dashes, symbols\n",
    "Clearing out names\n",
    "\n",
    "TO DO\n",
    "Step 2: Implementing the features\n",
    "- Goal: Train a logistic regression on 2 feature representations\n",
    "\n",
    "Step 3: Implementing the regression based on that data"
   ]
  },
  {
   "cell_type": "markdown",
   "metadata": {},
   "source": [
    "# Part 1: Imports and Cleaning Text"
   ]
  },
  {
   "cell_type": "code",
   "execution_count": 2,
   "metadata": {},
   "outputs": [
    {
     "name": "stderr",
     "output_type": "stream",
     "text": [
      "/Users/kate/anaconda3/lib/python3.11/site-packages/tqdm/auto.py:21: TqdmWarning: IProgress not found. Please update jupyter and ipywidgets. See https://ipywidgets.readthedocs.io/en/stable/user_install.html\n",
      "  from .autonotebook import tqdm as notebook_tqdm\n"
     ]
    }
   ],
   "source": [
    "import pandas as pd\n",
    "import re\n",
    "from sklearn.feature_extraction.text import CountVectorizer\n",
    "from sklearn.feature_extraction.text import TfidfVectorizer\n",
    "from transformers import pipeline\n",
    "import numpy as np\n",
    "from sklearn.linear_model import LogisticRegression\n"
   ]
  },
  {
   "cell_type": "code",
   "execution_count": 3,
   "metadata": {},
   "outputs": [],
   "source": [
    "# Read in data\n",
    "train = pd.read_csv('data/train.csv')\n",
    "val = pd.read_csv('data/val.csv')"
   ]
  },
  {
   "cell_type": "code",
   "execution_count": 4,
   "metadata": {},
   "outputs": [],
   "source": [
    "# Helper function for cleaning text\n",
    "def clean_html(text):\n",
    "    if pd.isna(text):\n",
    "        return text\n",
    "    # Remove HTML tags\n",
    "    clean = re.sub(r'<.*?>', '', str(text))\n",
    "    # Remove extra whitespaces\n",
    "    clean = re.sub(r'\\s+', ' ', clean).strip()\n",
    "    # Replace HTML entities\n",
    "    clean = re.sub(r'&amp;', '&', clean)\n",
    "    clean = re.sub(r'&lt;', '<', clean)\n",
    "    clean = re.sub(r'&gt;', '>', clean)\n",
    "    clean = re.sub(r'&quot;|&#34;', '\"', clean)\n",
    "    clean = re.sub(r'&apos;|&#39;', \"'\", clean)\n",
    "    return clean"
   ]
  },
  {
   "cell_type": "code",
   "execution_count": 5,
   "metadata": {},
   "outputs": [
    {
     "name": "stdout",
     "output_type": "stream",
     "text": [
      "                                                    snip   channel\n",
      "0      first of all, it feels like covid again but in...  FOXNEWSW\n",
      "1      to be a software drivenrganization where softw...     CSPAN\n",
      "2      you discuss the power of ai to revolutionize t...    CSPAN2\n",
      "3      ai bots like chatgpt and google's bard gained ...   BBCNEWS\n",
      "4      . >> i could sleep ten hours ai night if i was...  FOXNEWSW\n",
      "...                                                  ...       ...\n",
      "19868  cardiovascular science, but they're also pione...  FOXNEWSW\n",
      "19869  i of ai in different fields. have of ai in dif...   BBCNEWS\n",
      "19870  weighing down on the major averages, both tech...      KTVU\n",
      "19871  i also think crypto ai that legislation be fro...    CSPAN2\n",
      "19872  as we have worked to monitor the adoption iden...    CSPAN2\n",
      "\n",
      "[19873 rows x 2 columns]\n",
      "                                                   snip    channel\n",
      "0     . ♪ >> there's a kyu cho right have things tha...  BLOOMBERG\n",
      "1     he says the ai tool helped create a new fronti...       KPIX\n",
      "2     . >> the all new godaddy arrow put your busine...       CNNW\n",
      "3     in some cases they are powered by generative a...      CSPAN\n",
      "4     this was a ivotal it comes to ai. this was a p...    BBCNEWS\n",
      "...                                                 ...        ...\n",
      "3034  however, the ai trade is only one part of the ...       CNBC\n",
      "3035  oz but also was highlighted as a product by cr...     CSPAN2\n",
      "3036  the all new godaddy airo helps you get your bu...       CNBC\n",
      "3037  we are going to be way ahead on ai. we have to...       CNBC\n",
      "3038  his fourth management role after spells at der...    BBCNEWS\n",
      "\n",
      "[3039 rows x 2 columns]\n"
     ]
    }
   ],
   "source": [
    "# use the clean_html function to clean the training data\n",
    "train['snip'] = train['snip'].apply(clean_html)\n",
    "val['snip'] = val['snip'].apply(clean_html)\n",
    "\n",
    "print(train)\n",
    "print(val)"
   ]
  },
  {
   "cell_type": "code",
   "execution_count": 10,
   "metadata": {},
   "outputs": [],
   "source": [
    "# evaluation metric equation\n",
    "def eval(y_pred, y_true):\n",
    "    correct = (y_pred == y_true)   # Boolean array: True if correct, False if wrong\n",
    "    accuracy = correct.sum() / len(y_true)  # Correct / Total\n",
    "    return accuracy"
   ]
  },
  {
   "cell_type": "code",
   "execution_count": 6,
   "metadata": {},
   "outputs": [
    {
     "name": "stdout",
     "output_type": "stream",
     "text": [
      "                                                    snip   channel  \\\n",
      "0      first of all, it feels like covid again but in...  FOXNEWSW   \n",
      "1      to be a software drivenrganization where softw...     CSPAN   \n",
      "2      you discuss the power of ai to revolutionize t...    CSPAN2   \n",
      "3      ai bots like chatgpt and google's bard gained ...   BBCNEWS   \n",
      "4      . >> i could sleep ten hours ai night if i was...  FOXNEWSW   \n",
      "...                                                  ...       ...   \n",
      "19868  cardiovascular science, but they're also pione...  FOXNEWSW   \n",
      "19869  i of ai in different fields. have of ai in dif...   BBCNEWS   \n",
      "19870  weighing down on the major averages, both tech...      KTVU   \n",
      "19871  i also think crypto ai that legislation be fro...    CSPAN2   \n",
      "19872  as we have worked to monitor the adoption iden...    CSPAN2   \n",
      "\n",
      "       word_complexity  \n",
      "0             0.057407  \n",
      "1             0.079768  \n",
      "2             0.076151  \n",
      "3             0.077301  \n",
      "4             0.075782  \n",
      "...                ...  \n",
      "19868         0.080295  \n",
      "19869         0.093252  \n",
      "19870         0.080397  \n",
      "19871         0.079097  \n",
      "19872         0.080723  \n",
      "\n",
      "[19873 rows x 3 columns]\n"
     ]
    }
   ],
   "source": [
    "# Initialize and fit TF-IDF\n",
    "vectorizer = TfidfVectorizer()\n",
    "X_tfidf = vectorizer.fit_transform(train['snip'])\n",
    "\n",
    "# Calculate word complexity per snip\n",
    "word_complexity = X_tfidf.sum(axis=1) / (X_tfidf != 0).sum(axis=1)\n",
    "word_complexity = np.array(word_complexity).flatten()\n",
    "\n",
    "# Add it to the train dataframe\n",
    "train['word_complexity'] = word_complexity\n",
    "\n",
    "print(train)"
   ]
  },
  {
   "cell_type": "code",
   "execution_count": 7,
   "metadata": {},
   "outputs": [
    {
     "name": "stdout",
     "output_type": "stream",
     "text": [
      "                                                   snip    channel  \\\n",
      "0     . ♪ >> there's a kyu cho right have things tha...  BLOOMBERG   \n",
      "1     he says the ai tool helped create a new fronti...       KPIX   \n",
      "2     . >> the all new godaddy arrow put your busine...       CNNW   \n",
      "3     in some cases they are powered by generative a...      CSPAN   \n",
      "4     this was a ivotal it comes to ai. this was a p...    BBCNEWS   \n",
      "...                                                 ...        ...   \n",
      "3034  however, the ai trade is only one part of the ...       CNBC   \n",
      "3035  oz but also was highlighted as a product by cr...     CSPAN2   \n",
      "3036  the all new godaddy airo helps you get your bu...       CNBC   \n",
      "3037  we are going to be way ahead on ai. we have to...       CNBC   \n",
      "3038  his fourth management role after spells at der...    BBCNEWS   \n",
      "\n",
      "      word_complexity  \n",
      "0            0.088216  \n",
      "1            0.081808  \n",
      "2            0.074722  \n",
      "3            0.082919  \n",
      "4            0.083567  \n",
      "...               ...  \n",
      "3034         0.079930  \n",
      "3035         0.081606  \n",
      "3036         0.080997  \n",
      "3037         0.078856  \n",
      "3038         0.075032  \n",
      "\n",
      "[3039 rows x 3 columns]\n"
     ]
    }
   ],
   "source": [
    "# Transform validation snips using the same TF-IDF vectorizer\n",
    "x_val_tfidf = vectorizer.transform(val['snip'])\n",
    "\n",
    "# Compute complexity\n",
    "val_word_complexity = x_val_tfidf.sum(axis=1) / (x_val_tfidf != 0).sum(axis=1)\n",
    "val_word_complexity = np.array(val_word_complexity).flatten()\n",
    "\n",
    "# Add to val DataFrame\n",
    "val['word_complexity'] = val_word_complexity\n",
    "\n",
    "print(val)"
   ]
  },
  {
   "cell_type": "code",
   "execution_count": 8,
   "metadata": {},
   "outputs": [],
   "source": [
    "# X = features, y = labels\n",
    "x_train = train[['word_complexity']]  # Needs to be 2D\n",
    "y_train = train['channel']\n",
    "\n",
    "x_val = val[['word_complexity']]\n",
    "y_val = val['channel']"
   ]
  },
  {
   "cell_type": "code",
   "execution_count": 11,
   "metadata": {},
   "outputs": [
    {
     "name": "stdout",
     "output_type": "stream",
     "text": [
      "['CNNW' 'CNNW' 'CNNW' ... 'CNNW' 'CNNW' 'CNNW']\n",
      "0.07535373478117802\n"
     ]
    }
   ],
   "source": [
    "# Train\n",
    "model = LogisticRegression(max_iter=1000)\n",
    "model.fit(x_train, y_train)\n",
    "\n",
    "# Predict\n",
    "val_preds = model.predict(x_val)\n",
    "print(val_preds)\n",
    "\n",
    "# Evaluate\n",
    "val_accuracy = eval(val_preds, y_val)\n",
    "print(val_accuracy)"
   ]
  },
  {
   "cell_type": "markdown",
   "metadata": {},
   "source": [
    "now do the min/max training to create new average values of scores\n",
    "\n",
    "scaled = current - min/ max-min"
   ]
  },
  {
   "cell_type": "code",
   "execution_count": 12,
   "metadata": {},
   "outputs": [
    {
     "name": "stdout",
     "output_type": "stream",
     "text": [
      "0        0.057407\n",
      "1        0.079768\n",
      "2        0.076151\n",
      "3        0.077301\n",
      "4        0.075782\n",
      "           ...   \n",
      "19868    0.080295\n",
      "19869    0.093252\n",
      "19870    0.080397\n",
      "19871    0.079097\n",
      "19872    0.080723\n",
      "Name: word_complexity, Length: 19873, dtype: float64\n",
      "0.035929255415410526 0.6822632439493239\n"
     ]
    }
   ],
   "source": [
    "min = 1\n",
    "max = 0\n",
    "\n",
    "complexity = train['word_complexity']\n",
    "print(complexity)\n",
    "\n",
    "for i in range(len(complexity)):\n",
    "    if complexity[i] <= min:\n",
    "        min = complexity[i]\n",
    "    if complexity[i] >= max:\n",
    "        max = complexity[i]\n",
    "    else:\n",
    "        min = min\n",
    "        max = max\n",
    "\n",
    "print(min,max)"
   ]
  },
  {
   "cell_type": "code",
   "execution_count": 13,
   "metadata": {},
   "outputs": [],
   "source": [
    "# complexity is 2D\n",
    "def scale(complexity):\n",
    "    x_train = (train[['word_complexity']] - min )/ (max-min)\n",
    "    return x_train"
   ]
  },
  {
   "cell_type": "code",
   "execution_count": 39,
   "metadata": {},
   "outputs": [],
   "source": [
    "min_complexity = train[\"word_complexity\"].min()\n",
    "max_complexity = train[\"word_complexity\"].max()\n",
    "train[\"word_complexity_scaled\"] = (train[\"word_complexity\"] - min_complexity) / (max_complexity - min_complexity)\n",
    "val[\"word_complexity_scaled\"] = (val[\"word_complexity\"] - min_complexity) / (max_complexity - min_complexity)\n",
    "\n",
    "# X = features, y = labels\n",
    "x_train = train[['word_complexity_scaled']]\n",
    "y_train = train['channel']\n",
    "\n",
    "x_val = val[['word_complexity_scaled']]\n",
    "y_val = val['channel']"
   ]
  },
  {
   "cell_type": "code",
   "execution_count": 41,
   "metadata": {},
   "outputs": [
    {
     "name": "stdout",
     "output_type": "stream",
     "text": [
      "['CNNW' 'CNNW' 'CNNW' ... 'CNNW' 'CNNW' 'CNNW']\n",
      "0.07666995722277065\n"
     ]
    }
   ],
   "source": [
    "# Train\n",
    "model = LogisticRegression(max_iter=1000)\n",
    "model.fit(x_train, y_train)\n",
    "\n",
    "# Predict\n",
    "val_preds = model.predict(x_val)\n",
    "print(val_preds)\n",
    "\n",
    "# Evaluate\n",
    "val_accuracy = eval(val_preds, y_val)\n",
    "print(val_accuracy)"
   ]
  },
  {
   "cell_type": "code",
   "execution_count": 42,
   "metadata": {},
   "outputs": [
    {
     "name": "stdout",
     "output_type": "stream",
     "text": [
      "['FOXNEWSW', 'CSPAN', 'CSPAN2', 'BBCNEWS', 'GBN', 'KPIX', 'KGO', 'KNTV', '1TV', 'KRON', 'CSPAN3', 'SFGTV', 'RUSSIA24', 'KSTS', 'BLOOMBERG', 'MSNBCW', 'PRESSTV', 'KTVU', 'CNNW', 'FBC', 'CNBC', 'RUSSIA1', 'KDTV', 'DW', 'KQED', 'NTV', 'BELARUSTV', 'ALJAZ', 'RT', 'LINKTV', 'COM']\n"
     ]
    }
   ],
   "source": [
    "# create list of all of the channels\n",
    "channels = []\n",
    "\n",
    "for i in range(len(train)):\n",
    "    if train['channel'][i] not in channels:\n",
    "        channels.append(train['channel'][i])\n",
    "    else:\n",
    "        channels = channels\n",
    "\n",
    "# \n",
    "\n",
    "print(channels)\n"
   ]
  },
  {
   "cell_type": "code",
   "execution_count": 18,
   "metadata": {},
   "outputs": [
    {
     "name": "stderr",
     "output_type": "stream",
     "text": [
      "No model was supplied, defaulted to distilbert/distilbert-base-uncased-finetuned-sst-2-english and revision 714eb0f (https://huggingface.co/distilbert/distilbert-base-uncased-finetuned-sst-2-english).\n",
      "Using a pipeline without specifying a model name and revision in production is not recommended.\n",
      "Device set to use mps:0\n"
     ]
    }
   ],
   "source": [
    "train_corpus = list(train['snip'].values)\n",
    "val_corpus = list(val['snip'].values)\n",
    "nlp_sentiment = pipeline(\"sentiment-analysis\")\n",
    "train[\"Sentiment\"] = nlp_sentiment(train_corpus)\n",
    "val[\"Sentiment\"] = nlp_sentiment(val_corpus)"
   ]
  },
  {
   "cell_type": "code",
   "execution_count": 43,
   "metadata": {},
   "outputs": [
    {
     "data": {
      "text/html": [
       "<div>\n",
       "<style scoped>\n",
       "    .dataframe tbody tr th:only-of-type {\n",
       "        vertical-align: middle;\n",
       "    }\n",
       "\n",
       "    .dataframe tbody tr th {\n",
       "        vertical-align: top;\n",
       "    }\n",
       "\n",
       "    .dataframe thead th {\n",
       "        text-align: right;\n",
       "    }\n",
       "</style>\n",
       "<table border=\"1\" class=\"dataframe\">\n",
       "  <thead>\n",
       "    <tr style=\"text-align: right;\">\n",
       "      <th></th>\n",
       "      <th>snip</th>\n",
       "      <th>channel</th>\n",
       "      <th>word_complexity</th>\n",
       "      <th>Sentiment</th>\n",
       "      <th>Sentiment_Label</th>\n",
       "      <th>Sentiment_Score</th>\n",
       "      <th>Sentiment_scaled</th>\n",
       "      <th>word_complexity_scaled</th>\n",
       "    </tr>\n",
       "  </thead>\n",
       "  <tbody>\n",
       "    <tr>\n",
       "      <th>0</th>\n",
       "      <td>first of all, it feels like covid again but in...</td>\n",
       "      <td>FOXNEWSW</td>\n",
       "      <td>0.057407</td>\n",
       "      <td>{'label': 'NEGATIVE', 'score': 0.9903525710105...</td>\n",
       "      <td>NEGATIVE</td>\n",
       "      <td>0.990353</td>\n",
       "      <td>0.004713</td>\n",
       "      <td>0.033231</td>\n",
       "    </tr>\n",
       "    <tr>\n",
       "      <th>1</th>\n",
       "      <td>to be a software drivenrganization where softw...</td>\n",
       "      <td>CSPAN</td>\n",
       "      <td>0.079768</td>\n",
       "      <td>{'label': 'POSITIVE', 'score': 0.9933253526687...</td>\n",
       "      <td>POSITIVE</td>\n",
       "      <td>0.993325</td>\n",
       "      <td>0.996727</td>\n",
       "      <td>0.067826</td>\n",
       "    </tr>\n",
       "    <tr>\n",
       "      <th>2</th>\n",
       "      <td>you discuss the power of ai to revolutionize t...</td>\n",
       "      <td>CSPAN2</td>\n",
       "      <td>0.076151</td>\n",
       "      <td>{'label': 'NEGATIVE', 'score': 0.9971946477890...</td>\n",
       "      <td>NEGATIVE</td>\n",
       "      <td>0.997195</td>\n",
       "      <td>0.001292</td>\n",
       "      <td>0.062230</td>\n",
       "    </tr>\n",
       "    <tr>\n",
       "      <th>3</th>\n",
       "      <td>ai bots like chatgpt and google's bard gained ...</td>\n",
       "      <td>BBCNEWS</td>\n",
       "      <td>0.077301</td>\n",
       "      <td>{'label': 'POSITIVE', 'score': 0.9900817275047...</td>\n",
       "      <td>POSITIVE</td>\n",
       "      <td>0.990082</td>\n",
       "      <td>0.995105</td>\n",
       "      <td>0.064009</td>\n",
       "    </tr>\n",
       "    <tr>\n",
       "      <th>4</th>\n",
       "      <td>. &gt;&gt; i could sleep ten hours ai night if i was...</td>\n",
       "      <td>FOXNEWSW</td>\n",
       "      <td>0.075782</td>\n",
       "      <td>{'label': 'NEGATIVE', 'score': 0.8428422808647...</td>\n",
       "      <td>NEGATIVE</td>\n",
       "      <td>0.842842</td>\n",
       "      <td>0.078481</td>\n",
       "      <td>0.061660</td>\n",
       "    </tr>\n",
       "  </tbody>\n",
       "</table>\n",
       "</div>"
      ],
      "text/plain": [
       "                                                snip   channel  \\\n",
       "0  first of all, it feels like covid again but in...  FOXNEWSW   \n",
       "1  to be a software drivenrganization where softw...     CSPAN   \n",
       "2  you discuss the power of ai to revolutionize t...    CSPAN2   \n",
       "3  ai bots like chatgpt and google's bard gained ...   BBCNEWS   \n",
       "4  . >> i could sleep ten hours ai night if i was...  FOXNEWSW   \n",
       "\n",
       "   word_complexity                                          Sentiment  \\\n",
       "0         0.057407  {'label': 'NEGATIVE', 'score': 0.9903525710105...   \n",
       "1         0.079768  {'label': 'POSITIVE', 'score': 0.9933253526687...   \n",
       "2         0.076151  {'label': 'NEGATIVE', 'score': 0.9971946477890...   \n",
       "3         0.077301  {'label': 'POSITIVE', 'score': 0.9900817275047...   \n",
       "4         0.075782  {'label': 'NEGATIVE', 'score': 0.8428422808647...   \n",
       "\n",
       "  Sentiment_Label  Sentiment_Score  Sentiment_scaled  word_complexity_scaled  \n",
       "0        NEGATIVE         0.990353          0.004713                0.033231  \n",
       "1        POSITIVE         0.993325          0.996727                0.067826  \n",
       "2        NEGATIVE         0.997195          0.001292                0.062230  \n",
       "3        POSITIVE         0.990082          0.995105                0.064009  \n",
       "4        NEGATIVE         0.842842          0.078481                0.061660  "
      ]
     },
     "execution_count": 43,
     "metadata": {},
     "output_type": "execute_result"
    }
   ],
   "source": [
    "train['Sentiment_Label'] = [x.get('label') for x in train['Sentiment']]\n",
    "train['Sentiment_Score'] = [x.get('score') for x in train['Sentiment']]\n",
    "val['Sentiment_Label'] = [x.get('label') for x in val['Sentiment']]\n",
    "val['Sentiment_Score'] = [x.get('score') for x in val['Sentiment']]\n",
    "\n",
    "train.head()"
   ]
  },
  {
   "cell_type": "code",
   "execution_count": 44,
   "metadata": {},
   "outputs": [
    {
     "data": {
      "text/html": [
       "<div>\n",
       "<style scoped>\n",
       "    .dataframe tbody tr th:only-of-type {\n",
       "        vertical-align: middle;\n",
       "    }\n",
       "\n",
       "    .dataframe tbody tr th {\n",
       "        vertical-align: top;\n",
       "    }\n",
       "\n",
       "    .dataframe thead th {\n",
       "        text-align: right;\n",
       "    }\n",
       "</style>\n",
       "<table border=\"1\" class=\"dataframe\">\n",
       "  <thead>\n",
       "    <tr style=\"text-align: right;\">\n",
       "      <th></th>\n",
       "      <th>snip</th>\n",
       "      <th>channel</th>\n",
       "      <th>word_complexity</th>\n",
       "      <th>Sentiment</th>\n",
       "      <th>Sentiment_Label</th>\n",
       "      <th>Sentiment_Score</th>\n",
       "      <th>Sentiment_scaled</th>\n",
       "      <th>word_complexity_scaled</th>\n",
       "    </tr>\n",
       "  </thead>\n",
       "  <tbody>\n",
       "    <tr>\n",
       "      <th>0</th>\n",
       "      <td>first of all, it feels like covid again but in...</td>\n",
       "      <td>FOXNEWSW</td>\n",
       "      <td>0.057407</td>\n",
       "      <td>{'label': 'NEGATIVE', 'score': 0.9903525710105...</td>\n",
       "      <td>NEGATIVE</td>\n",
       "      <td>-0.990353</td>\n",
       "      <td>0.004713</td>\n",
       "      <td>0.033231</td>\n",
       "    </tr>\n",
       "    <tr>\n",
       "      <th>1</th>\n",
       "      <td>to be a software drivenrganization where softw...</td>\n",
       "      <td>CSPAN</td>\n",
       "      <td>0.079768</td>\n",
       "      <td>{'label': 'POSITIVE', 'score': 0.9933253526687...</td>\n",
       "      <td>POSITIVE</td>\n",
       "      <td>0.993325</td>\n",
       "      <td>0.996727</td>\n",
       "      <td>0.067826</td>\n",
       "    </tr>\n",
       "    <tr>\n",
       "      <th>2</th>\n",
       "      <td>you discuss the power of ai to revolutionize t...</td>\n",
       "      <td>CSPAN2</td>\n",
       "      <td>0.076151</td>\n",
       "      <td>{'label': 'NEGATIVE', 'score': 0.9971946477890...</td>\n",
       "      <td>NEGATIVE</td>\n",
       "      <td>-0.997195</td>\n",
       "      <td>0.001292</td>\n",
       "      <td>0.062230</td>\n",
       "    </tr>\n",
       "    <tr>\n",
       "      <th>3</th>\n",
       "      <td>ai bots like chatgpt and google's bard gained ...</td>\n",
       "      <td>BBCNEWS</td>\n",
       "      <td>0.077301</td>\n",
       "      <td>{'label': 'POSITIVE', 'score': 0.9900817275047...</td>\n",
       "      <td>POSITIVE</td>\n",
       "      <td>0.990082</td>\n",
       "      <td>0.995105</td>\n",
       "      <td>0.064009</td>\n",
       "    </tr>\n",
       "    <tr>\n",
       "      <th>4</th>\n",
       "      <td>. &gt;&gt; i could sleep ten hours ai night if i was...</td>\n",
       "      <td>FOXNEWSW</td>\n",
       "      <td>0.075782</td>\n",
       "      <td>{'label': 'NEGATIVE', 'score': 0.8428422808647...</td>\n",
       "      <td>NEGATIVE</td>\n",
       "      <td>-0.842842</td>\n",
       "      <td>0.078481</td>\n",
       "      <td>0.061660</td>\n",
       "    </tr>\n",
       "  </tbody>\n",
       "</table>\n",
       "</div>"
      ],
      "text/plain": [
       "                                                snip   channel  \\\n",
       "0  first of all, it feels like covid again but in...  FOXNEWSW   \n",
       "1  to be a software drivenrganization where softw...     CSPAN   \n",
       "2  you discuss the power of ai to revolutionize t...    CSPAN2   \n",
       "3  ai bots like chatgpt and google's bard gained ...   BBCNEWS   \n",
       "4  . >> i could sleep ten hours ai night if i was...  FOXNEWSW   \n",
       "\n",
       "   word_complexity                                          Sentiment  \\\n",
       "0         0.057407  {'label': 'NEGATIVE', 'score': 0.9903525710105...   \n",
       "1         0.079768  {'label': 'POSITIVE', 'score': 0.9933253526687...   \n",
       "2         0.076151  {'label': 'NEGATIVE', 'score': 0.9971946477890...   \n",
       "3         0.077301  {'label': 'POSITIVE', 'score': 0.9900817275047...   \n",
       "4         0.075782  {'label': 'NEGATIVE', 'score': 0.8428422808647...   \n",
       "\n",
       "  Sentiment_Label  Sentiment_Score  Sentiment_scaled  word_complexity_scaled  \n",
       "0        NEGATIVE        -0.990353          0.004713                0.033231  \n",
       "1        POSITIVE         0.993325          0.996727                0.067826  \n",
       "2        NEGATIVE        -0.997195          0.001292                0.062230  \n",
       "3        POSITIVE         0.990082          0.995105                0.064009  \n",
       "4        NEGATIVE        -0.842842          0.078481                0.061660  "
      ]
     },
     "execution_count": 44,
     "metadata": {},
     "output_type": "execute_result"
    }
   ],
   "source": [
    "train[\"Sentiment_Score\"] = np.where(\n",
    "    train[\"Sentiment_Label\"] == \"NEGATIVE\", -(train[\"Sentiment_Score\"]), train[\"Sentiment_Score\"]\n",
    ")\n",
    "\n",
    "val[\"Sentiment_Score\"] = np.where(\n",
    "    val[\"Sentiment_Label\"] == \"NEGATIVE\", -(val[\"Sentiment_Score\"]), val[\"Sentiment_Score\"]\n",
    ")\n",
    "\n",
    "train.head()"
   ]
  },
  {
   "cell_type": "code",
   "execution_count": 45,
   "metadata": {},
   "outputs": [
    {
     "data": {
      "text/html": [
       "<div>\n",
       "<style scoped>\n",
       "    .dataframe tbody tr th:only-of-type {\n",
       "        vertical-align: middle;\n",
       "    }\n",
       "\n",
       "    .dataframe tbody tr th {\n",
       "        vertical-align: top;\n",
       "    }\n",
       "\n",
       "    .dataframe thead th {\n",
       "        text-align: right;\n",
       "    }\n",
       "</style>\n",
       "<table border=\"1\" class=\"dataframe\">\n",
       "  <thead>\n",
       "    <tr style=\"text-align: right;\">\n",
       "      <th></th>\n",
       "      <th>snip</th>\n",
       "      <th>channel</th>\n",
       "      <th>word_complexity</th>\n",
       "      <th>Sentiment</th>\n",
       "      <th>Sentiment_Label</th>\n",
       "      <th>Sentiment_Score</th>\n",
       "      <th>Sentiment_scaled</th>\n",
       "      <th>word_complexity_scaled</th>\n",
       "    </tr>\n",
       "  </thead>\n",
       "  <tbody>\n",
       "    <tr>\n",
       "      <th>0</th>\n",
       "      <td>first of all, it feels like covid again but in...</td>\n",
       "      <td>FOXNEWSW</td>\n",
       "      <td>0.057407</td>\n",
       "      <td>{'label': 'NEGATIVE', 'score': 0.9903525710105...</td>\n",
       "      <td>NEGATIVE</td>\n",
       "      <td>-0.990353</td>\n",
       "      <td>0.004713</td>\n",
       "      <td>0.033231</td>\n",
       "    </tr>\n",
       "    <tr>\n",
       "      <th>1</th>\n",
       "      <td>to be a software drivenrganization where softw...</td>\n",
       "      <td>CSPAN</td>\n",
       "      <td>0.079768</td>\n",
       "      <td>{'label': 'POSITIVE', 'score': 0.9933253526687...</td>\n",
       "      <td>POSITIVE</td>\n",
       "      <td>0.993325</td>\n",
       "      <td>0.996727</td>\n",
       "      <td>0.067826</td>\n",
       "    </tr>\n",
       "    <tr>\n",
       "      <th>2</th>\n",
       "      <td>you discuss the power of ai to revolutionize t...</td>\n",
       "      <td>CSPAN2</td>\n",
       "      <td>0.076151</td>\n",
       "      <td>{'label': 'NEGATIVE', 'score': 0.9971946477890...</td>\n",
       "      <td>NEGATIVE</td>\n",
       "      <td>-0.997195</td>\n",
       "      <td>0.001292</td>\n",
       "      <td>0.062230</td>\n",
       "    </tr>\n",
       "    <tr>\n",
       "      <th>3</th>\n",
       "      <td>ai bots like chatgpt and google's bard gained ...</td>\n",
       "      <td>BBCNEWS</td>\n",
       "      <td>0.077301</td>\n",
       "      <td>{'label': 'POSITIVE', 'score': 0.9900817275047...</td>\n",
       "      <td>POSITIVE</td>\n",
       "      <td>0.990082</td>\n",
       "      <td>0.995105</td>\n",
       "      <td>0.064009</td>\n",
       "    </tr>\n",
       "    <tr>\n",
       "      <th>4</th>\n",
       "      <td>. &gt;&gt; i could sleep ten hours ai night if i was...</td>\n",
       "      <td>FOXNEWSW</td>\n",
       "      <td>0.075782</td>\n",
       "      <td>{'label': 'NEGATIVE', 'score': 0.8428422808647...</td>\n",
       "      <td>NEGATIVE</td>\n",
       "      <td>-0.842842</td>\n",
       "      <td>0.078481</td>\n",
       "      <td>0.061660</td>\n",
       "    </tr>\n",
       "  </tbody>\n",
       "</table>\n",
       "</div>"
      ],
      "text/plain": [
       "                                                snip   channel  \\\n",
       "0  first of all, it feels like covid again but in...  FOXNEWSW   \n",
       "1  to be a software drivenrganization where softw...     CSPAN   \n",
       "2  you discuss the power of ai to revolutionize t...    CSPAN2   \n",
       "3  ai bots like chatgpt and google's bard gained ...   BBCNEWS   \n",
       "4  . >> i could sleep ten hours ai night if i was...  FOXNEWSW   \n",
       "\n",
       "   word_complexity                                          Sentiment  \\\n",
       "0         0.057407  {'label': 'NEGATIVE', 'score': 0.9903525710105...   \n",
       "1         0.079768  {'label': 'POSITIVE', 'score': 0.9933253526687...   \n",
       "2         0.076151  {'label': 'NEGATIVE', 'score': 0.9971946477890...   \n",
       "3         0.077301  {'label': 'POSITIVE', 'score': 0.9900817275047...   \n",
       "4         0.075782  {'label': 'NEGATIVE', 'score': 0.8428422808647...   \n",
       "\n",
       "  Sentiment_Label  Sentiment_Score  Sentiment_scaled  word_complexity_scaled  \n",
       "0        NEGATIVE        -0.990353          0.004713                0.033231  \n",
       "1        POSITIVE         0.993325          0.996727                0.067826  \n",
       "2        NEGATIVE        -0.997195          0.001292                0.062230  \n",
       "3        POSITIVE         0.990082          0.995105                0.064009  \n",
       "4        NEGATIVE        -0.842842          0.078481                0.061660  "
      ]
     },
     "execution_count": 45,
     "metadata": {},
     "output_type": "execute_result"
    }
   ],
   "source": [
    "min_sentiment = train[\"Sentiment_Score\"].min()\n",
    "max_sentiment = train[\"Sentiment_Score\"].max()\n",
    "\n",
    "train[\"Sentiment_scaled\"] = (train[\"Sentiment_Score\"] - min_sentiment) / (max_sentiment - min_sentiment)\n",
    "val[\"Sentiment_scaled\"] = (val[\"Sentiment_Score\"] - min_sentiment) / (max_sentiment - min_sentiment)\n",
    "train.head()\n"
   ]
  },
  {
   "cell_type": "code",
   "execution_count": 48,
   "metadata": {},
   "outputs": [
    {
     "name": "stdout",
     "output_type": "stream",
     "text": [
      "['CNNW' 'CNNW' 'CNNW' ... 'CNNW' 'CNNW' 'CNNW']\n",
      "0.07634090161237249\n"
     ]
    }
   ],
   "source": [
    "x_train = train[['word_complexity_scaled', 'Sentiment_scaled']]  # Needs to be 2D\n",
    "x_val = val[['word_complexity_scaled', 'Sentiment_scaled']]\n",
    "model = LogisticRegression(max_iter=1000)\n",
    "\n",
    "model.fit(x_train, y_train)\n",
    "\n",
    "# Predict\n",
    "val_preds = model.predict(x_val)\n",
    "print(val_preds)\n",
    "\n",
    "# Evaluate\n",
    "val_accuracy = eval(val_preds, y_val)\n",
    "print(val_accuracy)"
   ]
  },
  {
   "cell_type": "code",
   "execution_count": 49,
   "metadata": {},
   "outputs": [
    {
     "name": "stdout",
     "output_type": "stream",
     "text": [
      "channel\n",
      "CNNW         2725\n",
      "FBC          1608\n",
      "BBCNEWS      1576\n",
      "BLOOMBERG    1441\n",
      "CNBC         1319\n",
      "MSNBCW       1141\n",
      "FOXNEWSW     1106\n",
      "CSPAN         913\n",
      "CSPAN2        904\n",
      "KNTV          842\n",
      "KTVU          766\n",
      "KGO           763\n",
      "KRON          760\n",
      "GBN           717\n",
      "CSPAN3        664\n",
      "KPIX          400\n",
      "SFGTV         360\n",
      "DW            253\n",
      "ALJAZ         230\n",
      "NTV           209\n",
      "KDTV          176\n",
      "1TV           158\n",
      "KSTS          142\n",
      "RUSSIA24      122\n",
      "PRESSTV       115\n",
      "KQED          113\n",
      "BELARUSTV     109\n",
      "RUSSIA1       108\n",
      "RT             50\n",
      "LINKTV         43\n",
      "COM            40\n",
      "Name: count, dtype: int64\n"
     ]
    }
   ],
   "source": [
    "print(train[\"channel\"].value_counts())"
   ]
  },
  {
   "cell_type": "code",
   "execution_count": null,
   "metadata": {},
   "outputs": [],
   "source": []
  }
 ],
 "metadata": {
  "kernelspec": {
   "display_name": "base",
   "language": "python",
   "name": "python3"
  },
  "language_info": {
   "codemirror_mode": {
    "name": "ipython",
    "version": 3
   },
   "file_extension": ".py",
   "mimetype": "text/x-python",
   "name": "python",
   "nbconvert_exporter": "python",
   "pygments_lexer": "ipython3",
   "version": "3.11.8"
  }
 },
 "nbformat": 4,
 "nbformat_minor": 2
}
