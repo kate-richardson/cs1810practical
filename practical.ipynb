{
 "cells": [
  {
   "cell_type": "markdown",
   "metadata": {},
   "source": [
    "DONE\n",
    "Step 1: Preprocess the data - use the same function across the board\n",
    "Clearing out the capitalization\n",
    "Clearing out em dashes, symbols\n",
    "Clearing out names\n",
    "\n",
    "TO DO\n",
    "Step 2: Implementing the features\n",
    "- Goal: Train a logistic regression on 2 feature representations\n",
    "\n",
    "Step 3: Implementing the regression based on that data"
   ]
  },
  {
   "cell_type": "markdown",
   "metadata": {},
   "source": [
    "# Part 1: Imports and Cleaning Text"
   ]
  },
  {
   "cell_type": "code",
   "execution_count": 16,
   "metadata": {},
   "outputs": [],
   "source": [
    "import pandas as pd\n",
    "import re\n",
    "from sklearn.feature_extraction.text import CountVectorizer\n",
    "from sklearn.feature_extraction.text import TfidfVectorizer\n",
    "from transformers import pipeline\n",
    "import numpy as np\n",
    "from sklearn.linear_model import LogisticRegression\n"
   ]
  },
  {
   "cell_type": "code",
   "execution_count": 2,
   "metadata": {},
   "outputs": [],
   "source": [
    "# Read in data\n",
    "train = pd.read_csv('data/train.csv')\n",
    "val = pd.read_csv('data/val.csv')"
   ]
  },
  {
   "cell_type": "code",
   "execution_count": 3,
   "metadata": {},
   "outputs": [],
   "source": [
    "# Helper function for cleaning text\n",
    "def clean_html(text):\n",
    "    if pd.isna(text):\n",
    "        return text\n",
    "    # Remove HTML tags\n",
    "    clean = re.sub(r'<.*?>', '', str(text))\n",
    "    # Remove extra whitespaces\n",
    "    clean = re.sub(r'\\s+', ' ', clean).strip()\n",
    "    # Replace HTML entities\n",
    "    clean = re.sub(r'&amp;', '&', clean)\n",
    "    clean = re.sub(r'&lt;', '<', clean)\n",
    "    clean = re.sub(r'&gt;', '>', clean)\n",
    "    clean = re.sub(r'&quot;|&#34;', '\"', clean)\n",
    "    clean = re.sub(r'&apos;|&#39;', \"'\", clean)\n",
    "    return clean"
   ]
  },
  {
   "cell_type": "code",
   "execution_count": 5,
   "metadata": {},
   "outputs": [
    {
     "name": "stdout",
     "output_type": "stream",
     "text": [
      "                                                    snip   channel\n",
      "0      first of all, it feels like covid again but in...  FOXNEWSW\n",
      "1      to be a software drivenrganization where softw...     CSPAN\n",
      "2      you discuss the power of ai to revolutionize t...    CSPAN2\n",
      "3      ai bots like chatgpt and google's bard gained ...   BBCNEWS\n",
      "4      . >> i could sleep ten hours ai night if i was...  FOXNEWSW\n",
      "...                                                  ...       ...\n",
      "19868  cardiovascular science, but they're also pione...  FOXNEWSW\n",
      "19869  i of ai in different fields. have of ai in dif...   BBCNEWS\n",
      "19870  weighing down on the major averages, both tech...      KTVU\n",
      "19871  i also think crypto ai that legislation be fro...    CSPAN2\n",
      "19872  as we have worked to monitor the adoption iden...    CSPAN2\n",
      "\n",
      "[19873 rows x 2 columns]\n",
      "                                                   snip    channel\n",
      "0     . ♪ >> there's a kyu cho right have things tha...  BLOOMBERG\n",
      "1     he says the ai tool helped create a new fronti...       KPIX\n",
      "2     . >> the all new godaddy arrow put your busine...       CNNW\n",
      "3     in some cases they are powered by generative a...      CSPAN\n",
      "4     this was a ivotal it comes to ai. this was a p...    BBCNEWS\n",
      "...                                                 ...        ...\n",
      "3034  however, the ai trade is only one part of the ...       CNBC\n",
      "3035  oz but also was highlighted as a product by cr...     CSPAN2\n",
      "3036  the all new godaddy airo helps you get your bu...       CNBC\n",
      "3037  we are going to be way ahead on ai. we have to...       CNBC\n",
      "3038  his fourth management role after spells at der...    BBCNEWS\n",
      "\n",
      "[3039 rows x 2 columns]\n"
     ]
    }
   ],
   "source": [
    "# use the clean_html function to clean the training data\n",
    "train['snip'] = train['snip'].apply(clean_html)\n",
    "val['snip'] = val['snip'].apply(clean_html)\n",
    "\n",
    "print(train)\n",
    "print(val)"
   ]
  },
  {
   "cell_type": "code",
   "execution_count": 12,
   "metadata": {},
   "outputs": [],
   "source": [
    "# evaluation metric equation\n",
    "def eval(y_pred, y_true):\n",
    "    correct = (y_pred == y_true)   # Boolean array: True if correct, False if wrong\n",
    "    accuracy = correct.sum() / len(y_true)  # Correct / Total\n",
    "    return accuracy"
   ]
  },
  {
   "cell_type": "code",
   "execution_count": 7,
   "metadata": {},
   "outputs": [
    {
     "name": "stdout",
     "output_type": "stream",
     "text": [
      "                                                    snip   channel  \\\n",
      "0      first of all, it feels like covid again but in...  FOXNEWSW   \n",
      "1      to be a software drivenrganization where softw...     CSPAN   \n",
      "2      you discuss the power of ai to revolutionize t...    CSPAN2   \n",
      "3      ai bots like chatgpt and google's bard gained ...   BBCNEWS   \n",
      "4      . >> i could sleep ten hours ai night if i was...  FOXNEWSW   \n",
      "...                                                  ...       ...   \n",
      "19868  cardiovascular science, but they're also pione...  FOXNEWSW   \n",
      "19869  i of ai in different fields. have of ai in dif...   BBCNEWS   \n",
      "19870  weighing down on the major averages, both tech...      KTVU   \n",
      "19871  i also think crypto ai that legislation be fro...    CSPAN2   \n",
      "19872  as we have worked to monitor the adoption iden...    CSPAN2   \n",
      "\n",
      "       word_complexity  \n",
      "0             0.057407  \n",
      "1             0.079768  \n",
      "2             0.076151  \n",
      "3             0.077301  \n",
      "4             0.075782  \n",
      "...                ...  \n",
      "19868         0.080295  \n",
      "19869         0.093252  \n",
      "19870         0.080397  \n",
      "19871         0.079097  \n",
      "19872         0.080723  \n",
      "\n",
      "[19873 rows x 3 columns]\n"
     ]
    }
   ],
   "source": [
    "# Initialize and fit TF-IDF\n",
    "vectorizer = TfidfVectorizer()\n",
    "X_tfidf = vectorizer.fit_transform(train['snip'])\n",
    "\n",
    "# Calculate word complexity per snip\n",
    "word_complexity = X_tfidf.sum(axis=1) / (X_tfidf != 0).sum(axis=1)\n",
    "word_complexity = np.array(word_complexity).flatten()\n",
    "\n",
    "# Add it to the train dataframe\n",
    "train['word_complexity'] = word_complexity\n",
    "\n",
    "print(train)"
   ]
  },
  {
   "cell_type": "code",
   "execution_count": 8,
   "metadata": {},
   "outputs": [
    {
     "name": "stdout",
     "output_type": "stream",
     "text": [
      "                                                   snip    channel  \\\n",
      "0     . ♪ >> there's a kyu cho right have things tha...  BLOOMBERG   \n",
      "1     he says the ai tool helped create a new fronti...       KPIX   \n",
      "2     . >> the all new godaddy arrow put your busine...       CNNW   \n",
      "3     in some cases they are powered by generative a...      CSPAN   \n",
      "4     this was a ivotal it comes to ai. this was a p...    BBCNEWS   \n",
      "...                                                 ...        ...   \n",
      "3034  however, the ai trade is only one part of the ...       CNBC   \n",
      "3035  oz but also was highlighted as a product by cr...     CSPAN2   \n",
      "3036  the all new godaddy airo helps you get your bu...       CNBC   \n",
      "3037  we are going to be way ahead on ai. we have to...       CNBC   \n",
      "3038  his fourth management role after spells at der...    BBCNEWS   \n",
      "\n",
      "      word_complexity  \n",
      "0            0.088216  \n",
      "1            0.081808  \n",
      "2            0.074722  \n",
      "3            0.082919  \n",
      "4            0.083567  \n",
      "...               ...  \n",
      "3034         0.079930  \n",
      "3035         0.081606  \n",
      "3036         0.080997  \n",
      "3037         0.078856  \n",
      "3038         0.075032  \n",
      "\n",
      "[3039 rows x 3 columns]\n"
     ]
    }
   ],
   "source": [
    "# Transform validation snips using the same TF-IDF vectorizer\n",
    "X_val_tfidf = vectorizer.transform(val['snip'])\n",
    "\n",
    "# Compute complexity\n",
    "val_word_complexity = X_val_tfidf.sum(axis=1) / (X_val_tfidf != 0).sum(axis=1)\n",
    "val_word_complexity = np.array(val_word_complexity).flatten()\n",
    "\n",
    "# Add to val DataFrame\n",
    "val['word_complexity'] = val_word_complexity\n",
    "\n",
    "print(val)"
   ]
  },
  {
   "cell_type": "code",
   "execution_count": 13,
   "metadata": {},
   "outputs": [],
   "source": [
    "# X = features, y = labels\n",
    "x_train = train[['word_complexity']]  # Needs to be 2D\n",
    "y_train = train['channel']\n",
    "\n",
    "x_val = val[['word_complexity']]\n",
    "y_val = val['channel']"
   ]
  },
  {
   "cell_type": "code",
   "execution_count": 17,
   "metadata": {},
   "outputs": [
    {
     "name": "stdout",
     "output_type": "stream",
     "text": [
      "['CNNW' 'CNNW' 'CNNW' ... 'CNNW' 'CNNW' 'CNNW']\n",
      "0.07535373478117802\n"
     ]
    }
   ],
   "source": [
    "# Train\n",
    "model = LogisticRegression(max_iter=1000)\n",
    "model.fit(x_train, y_train)\n",
    "\n",
    "# Predict\n",
    "val_preds = model.predict(x_val)\n",
    "print(val_preds)\n",
    "\n",
    "# Evaluate\n",
    "val_accuracy = eval(val_preds, y_val)\n",
    "print(val_accuracy)"
   ]
  }
 ],
 "metadata": {
  "kernelspec": {
   "display_name": "Python 3",
   "language": "python",
   "name": "python3"
  },
  "language_info": {
   "codemirror_mode": {
    "name": "ipython",
    "version": 3
   },
   "file_extension": ".py",
   "mimetype": "text/x-python",
   "name": "python",
   "nbconvert_exporter": "python",
   "pygments_lexer": "ipython3",
   "version": "3.12.4"
  }
 },
 "nbformat": 4,
 "nbformat_minor": 2
}
